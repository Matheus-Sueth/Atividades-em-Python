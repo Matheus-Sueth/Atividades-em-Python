{
  "nbformat": 4,
  "nbformat_minor": 0,
  "metadata": {
    "colab": {
      "name": "Exercícios_em_Python.ipynb",
      "provenance": [],
      "collapsed_sections": [
        "JmcL-Hhb_T9T",
        "CHKF4bJt9nX-",
        "2WNjWRQaRmqn",
        "sx-tmhM6X9er",
        "-Q_L2ce9ZIm0"
      ],
      "authorship_tag": "ABX9TyNDmY/F+OscrMxnQjoBwRe0",
      "include_colab_link": true
    },
    "kernelspec": {
      "name": "python3",
      "display_name": "Python 3"
    },
    "language_info": {
      "name": "python"
    }
  },
  "cells": [
    {
      "cell_type": "markdown",
      "metadata": {
        "id": "view-in-github",
        "colab_type": "text"
      },
      "source": [
        "<a href=\"https://colab.research.google.com/github/Matheus-Sueth/Atividades-em-Python/blob/main/Exerc%C3%ADcios_em_Python.ipynb\" target=\"_parent\"><img src=\"https://colab.research.google.com/assets/colab-badge.svg\" alt=\"Open In Colab\"/></a>"
      ]
    },
    {
      "cell_type": "markdown",
      "metadata": {
        "id": "JmcL-Hhb_T9T"
      },
      "source": [
        "# 1.0 Faça um programa para avaliar equações polinomiais. O usuário deverá digitar numa linha o grau do polinômio, e na linha seguinte os valores dos coeficientes em ordem decrescente e o valor da variável separados por espaço, lembrando que os coeficientes e valor da variável podem ser reais.\n",
        "Por exemplo, para o caso f(x) = 2x² - 3x + 7 com x = 5, temos\n",
        "\n",
        "Entrada: \n",
        "2 -\n",
        "2 -3 7 5\n",
        "\n",
        "Saída:\n",
        "42.0"
      ]
    },
    {
      "cell_type": "code",
      "metadata": {
        "id": "B3zHpkFmBpCE"
      },
      "source": [
        "a = []\n",
        "print('Digite o grau do polinômio: (1/2/3)')\n",
        "poten = grau = int(input(' '))\n",
        "i = 0\n",
        "while (i <= grau):\n",
        "  a.append(float(input('Digite o ' + str(i+1) + '°coeficiente: ')))\n",
        "  print(str(a[i]))\n",
        "  if (i == grau):\n",
        "    x = float(input('Digite o valor da variável: '))\n",
        "  i+=1\n",
        "if (grau == 1):\n",
        "  print(str(a[0]) + \" * \" + str(x) + \" + \" + str(a[1]))\n",
        "  f = a[0]*(x**(poten)) + a[1]\n",
        "elif (grau == 2):\n",
        "  f = a[0]*(x**poten) + a[1]*(x**(poten-1)) + a[2]\n",
        "elif (grau == 3):\n",
        "  f = a[0]*(x**poten) + a[1]*(x**poten-2 ) + a[2]*(x**(poten-1)) + a[3]\n",
        "print(str(f))"
      ],
      "execution_count": null,
      "outputs": []
    },
    {
      "cell_type": "markdown",
      "metadata": {
        "id": "CHKF4bJt9nX-"
      },
      "source": [
        "# 1.01 Faça um programa que receba como entrada um inteiro N e três listas de tamanho N: **produto**, **estoque** e **pedido**. A lista **produto** é formada por strings e as listas **estoque** e **pedido** são formadas por inteiros. Considere que os elementos numa mesma porsição i das três listas estão relacionadas. Seu programa deve retornar uma listagem na tela dos produtos que não têm estoque suficiente para o pedido e a respectiva quantidade que está faltando.\n",
        "#Obersevação: Os elementos de cada lista devem ser digitados pelo usuário na mesma linha e separados por vírgula.\n",
        "Por exemplo:\n",
        "\n",
        "Entrada: \n",
        "\n",
        "3 \n",
        "\n",
        "banana, tomate, cenoura \n",
        "\n",
        "26, 30, 47 \n",
        "\n",
        "20, 34, 50\n",
        "\n",
        "Saída:\n",
        "\n",
        "tomate 4\n",
        "\n",
        "cenoura 3"
      ]
    },
    {
      "cell_type": "code",
      "metadata": {
        "id": "M3Zgs1ymAIkH",
        "colab": {
          "base_uri": "https://localhost:8080/"
        },
        "outputId": "4fdbd392-73b9-41bb-9afc-1848cffa4510"
      },
      "source": [
        "#Em produção\n",
        "#valores = list(map(int, input().split()))\n",
        "prod = est = ped = []\n",
        "valor = int(input('Digite o tamanho da lista: '))\n",
        "while (len(prod) < valor):\n",
        "  prod = input().split(\",\")\n",
        "while (len(est) < valor):\n",
        "  est = input().split(\",\")\n",
        "while (len(ped) < valor):\n",
        "  ped = input().split(\",\")\n",
        "\n",
        "lista = []\n",
        "i = 0\n",
        "\n",
        "while (i < valor):\n",
        "  if (est[i] < ped[i]):\n",
        "    print(str(prod[i]) + ' ' + str(int(ped[i]) - int(est[i])))\n",
        "  i += 1\n",
        "#lista.append(int(l) - int(m))\n",
        " \n"
      ],
      "execution_count": null,
      "outputs": [
        {
          "output_type": "stream",
          "text": [
            "Digite o tamanho da lista: 5\n",
            "uva,limão,morango,açai,melancia\n",
            "10,20,30,40,50\n",
            "20,10,50,30,40\n",
            "uva 10\n",
            "morango 20\n"
          ],
          "name": "stdout"
        }
      ]
    },
    {
      "cell_type": "markdown",
      "metadata": {
        "id": "2WNjWRQaRmqn"
      },
      "source": [
        "# 1.1 Lista de números positivos terminada por 0, imprimir seus quadrados"
      ]
    },
    {
      "cell_type": "code",
      "metadata": {
        "id": "IBQ1VCkEypOX",
        "colab": {
          "base_uri": "https://localhost:8080/"
        },
        "outputId": "c8b9dc60-ae47-4084-e6c5-b319e38be158"
      },
      "source": [
        "lista = []\n",
        "i = 0\n",
        "n = int(input('Digite quantos números você vai digitar: '))\n",
        "while (i < n):\n",
        "  lista.append(int(input('Digite o número: ')))\n",
        "  i+=1\n",
        "for i in lista:\n",
        "  print(i**2)"
      ],
      "execution_count": null,
      "outputs": [
        {
          "output_type": "stream",
          "text": [
            "Digite quantos números você vai digitar: 1\n",
            "Digite o número: 100\n",
            "10000\n"
          ],
          "name": "stdout"
        }
      ]
    },
    {
      "cell_type": "markdown",
      "metadata": {
        "id": "sx-tmhM6X9er"
      },
      "source": [
        "# 1.2 Dado n, calcular a soma dos n primeiros números inteiros positivos "
      ]
    },
    {
      "cell_type": "code",
      "metadata": {
        "colab": {
          "base_uri": "https://localhost:8080/"
        },
        "id": "ginMAGl_X1CF",
        "outputId": "c0933be1-6c84-4752-9605-69ab43fd3fde"
      },
      "source": [
        "lista = []\n",
        "i = 0\n",
        "soma = 0\n",
        "n = int(input('Digite quantos números você vai digitar: '))\n",
        "while (i < n):\n",
        "  lista.append(int(input('Digite o número: ')))\n",
        "  i+=1\n",
        "for i in lista:\n",
        "  soma+=i\n",
        "print(soma)"
      ],
      "execution_count": null,
      "outputs": [
        {
          "output_type": "stream",
          "text": [
            "Digite quantos números você vai digitar: 4\n",
            "Digite o número: 10\n",
            "Digite o número: 20\n",
            "Digite o número: 30\n",
            "Digite o número: 40\n",
            "100\n"
          ],
          "name": "stdout"
        }
      ]
    },
    {
      "cell_type": "markdown",
      "metadata": {
        "id": "-Q_L2ce9ZIm0"
      },
      "source": [
        "# 1.3 Dado n, imprimir os n primeiros números inteiros positivos ímpares.\n",
        "Exemplo: Para n = 4 a saída deverá ser 1, 3, 5, 7."
      ]
    },
    {
      "cell_type": "code",
      "metadata": {
        "id": "8w0ZG9PcZvNs"
      },
      "source": [
        "n = int(input('Digite quantos números você vai querer: '))\n",
        "i = 0\n",
        "cont = 0\n",
        "while (cont < n):\n",
        "  if (not i % 2 == 0):\n",
        "    print(i)\n",
        "    cont+=1 \n",
        "  i+=1"
      ],
      "execution_count": null,
      "outputs": []
    },
    {
      "cell_type": "markdown",
      "metadata": {
        "id": "hG2JX4as6MtH"
      },
      "source": [
        "\n",
        "# 1.4 Dados um inteiro x e um inteiro não-negativo n, calcular x**n\n",
        "\n"
      ]
    },
    {
      "cell_type": "code",
      "metadata": {
        "id": "w10NimiLD1I2"
      },
      "source": [
        "def calcularb():\n",
        "  x = int(input('Digite um inteiro: '))\n",
        "  return x\n",
        "\n",
        "def calculare():\n",
        "  n = int(input('Digite um inteiro não-negativo: '))\n",
        "  if (n < 0):\n",
        "    print('Erro!!!\\nDigite novamente')\n",
        "    return calculare()\n",
        "  else:\n",
        "    return n\n",
        "2\n",
        "bas = calcularb()\n",
        "exp = calculare()\n",
        "\n",
        "print(str(bas**exp))"
      ],
      "execution_count": null,
      "outputs": []
    },
    {
      "cell_type": "markdown",
      "metadata": {
        "id": "Rs7PVfk5z3Ee"
      },
      "source": [
        "# 1.5 Uma loja de discos anota diariamente durante o mês de março a quantidade de discos vendidos. Determinar em que dia desse mês ocorreu a maior venda e qual foi a quantidade de discos vendida nesse dia."
      ]
    },
    {
      "cell_type": "code",
      "metadata": {
        "colab": {
          "base_uri": "https://localhost:8080/"
        },
        "id": "OGV9o-Ph0Pe-",
        "outputId": "2b78a319-93a2-4bee-ef96-530548e4dff2"
      },
      "source": [
        "from random import randint\n",
        "\n",
        "mes = []\n",
        "\n",
        "for i in range(0,31):\n",
        "  a = randint(0,100)\n",
        "  b = randint(0,50)\n",
        "  mes.append(a+b)\n",
        "\n",
        "maiorv = mes[0]\n",
        "\n",
        "for aux in mes:\n",
        "  if (maiorv < aux):\n",
        "    maiorv = aux\n",
        "\n",
        "quanti = mes.index(maiorv)\n",
        "print('A maior venda de discos foi no dia ' + str(quanti+1) + ' de Março\\nForam vendidos ' + str(maiorv) + ' discos')"
      ],
      "execution_count": null,
      "outputs": [
        {
          "output_type": "stream",
          "text": [
            "A maior venda de discos foi no dia 8 de Março\n",
            "Foram vendidos 141 discos\n"
          ],
          "name": "stdout"
        }
      ]
    },
    {
      "cell_type": "markdown",
      "metadata": {
        "id": "llCpIeM5HgfD"
      },
      "source": [
        "# 1.6 Dados o número n de alunos de uma turma de Introdução aos Autômatos a Pilha (MAC 414) e suas notas da primeira prova, determinar a maior e a menor nota obtidas por essa turma\n",
        "Obs: nota máxima = 100 e nota mínima = 0 "
      ]
    },
    {
      "cell_type": "code",
      "metadata": {
        "colab": {
          "base_uri": "https://localhost:8080/"
        },
        "id": "uKMzAlLpIA4B",
        "outputId": "7d9c532e-6ef2-46c0-bce4-fd7de79f1d90"
      },
      "source": [
        "from random import randint\n",
        "\n",
        "n = 100\n",
        "notas = []\n",
        "\n",
        "for l in range(0,n):\n",
        "  a = randint(0,100)\n",
        "  notas.append(a)\n",
        "\n",
        "maiorn1 = notas[0]\n",
        "maiorn2 = notas[0]\n",
        "\n",
        "for aux in notas:\n",
        "  if (maiorn1 < aux):\n",
        "    maiorn1 = aux\n",
        "  if (maiorn2 > aux):\n",
        "    maiorn2 = aux\n",
        "\n",
        "\n",
        "print('Nota Máxima = ' + str(maiorn1) + '\\nNota Mínima =  ' + str(maiorn2))  "
      ],
      "execution_count": null,
      "outputs": [
        {
          "output_type": "stream",
          "text": [
            "Nota Máxima = 100\n",
            "Nota Mínima =  0\n"
          ],
          "name": "stdout"
        }
      ]
    },
    {
      "cell_type": "markdown",
      "metadata": {
        "id": "mLGUzQ_iK0VF"
      },
      "source": [
        "# 1.7 Dados n e uma seqüência de n números inteiros, determinar a soma dos números pares."
      ]
    },
    {
      "cell_type": "code",
      "metadata": {
        "colab": {
          "base_uri": "https://localhost:8080/"
        },
        "id": "6TObhugnLGXv",
        "outputId": "75405c30-0460-4fa1-c011-e403329bcbe8"
      },
      "source": [
        "from random import randint\n",
        "\n",
        "soma = 0\n",
        "n = 5\n",
        "notas = []\n",
        "\n",
        "\n",
        "for l in range(0,n):\n",
        "  a = randint(0,100)\n",
        "  notas.append(a)\n",
        "  if (notas[l] % 2 == 0):\n",
        "    soma += a\n",
        "\n",
        "print(soma)"
      ],
      "execution_count": null,
      "outputs": [
        {
          "output_type": "stream",
          "text": [
            "130\n"
          ],
          "name": "stdout"
        }
      ]
    },
    {
      "cell_type": "markdown",
      "metadata": {
        "id": "ccLiOuBXOi3L"
      },
      "source": [
        "# 1.8 Dado um inteiro não-negativo n, determinar n!"
      ]
    },
    {
      "cell_type": "code",
      "metadata": {
        "colab": {
          "base_uri": "https://localhost:8080/"
        },
        "id": "hiw1ZsFwOrXY",
        "outputId": "b0ff0f60-6920-4094-8533-c85741ce2c9d"
      },
      "source": [
        "from random import randint\n",
        "\n",
        "def determina(a):\n",
        "  if (a <= 1):\n",
        "    return 1\n",
        "  else:\n",
        "    return a * determina(a-1)\n",
        "\n",
        "n = randint(0,10)\n",
        "r = determina(n)\n",
        "\n",
        "print('O fatorial de ' + str(n) +  ' é ' + str(r))"
      ],
      "execution_count": null,
      "outputs": [
        {
          "output_type": "stream",
          "text": [
            "O fatorial de 6 é 720\n"
          ],
          "name": "stdout"
        }
      ]
    }
  ]
}