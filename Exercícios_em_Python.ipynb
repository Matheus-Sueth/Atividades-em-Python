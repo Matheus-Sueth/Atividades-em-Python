{
  "nbformat": 4,
  "nbformat_minor": 0,
  "metadata": {
    "colab": {
      "name": "Exercícios_em_Python.ipynb",
      "provenance": [],
      "collapsed_sections": [
        "JmcL-Hhb_T9T",
        "CHKF4bJt9nX-",
        "2WNjWRQaRmqn",
        "sx-tmhM6X9er",
        "-Q_L2ce9ZIm0",
        "hG2JX4as6MtH",
        "Rs7PVfk5z3Ee",
        "llCpIeM5HgfD",
        "mLGUzQ_iK0VF",
        "ccLiOuBXOi3L",
        "cgbMSrD44zNR",
        "SFHnFvz8SDDl",
        "bSHW8fMmNSsy",
        "io1AOZhs4F2m",
        "zzqNCeup9yV4",
        "UUaTpXlIIIoK"
      ],
      "authorship_tag": "ABX9TyNRR6b5i5KmGvtaqnSbNIGp",
      "include_colab_link": true
    },
    "kernelspec": {
      "name": "python3",
      "display_name": "Python 3"
    },
    "language_info": {
      "name": "python"
    }
  },
  "cells": [
    {
      "cell_type": "markdown",
      "metadata": {
        "id": "view-in-github",
        "colab_type": "text"
      },
      "source": [
        "<a href=\"https://colab.research.google.com/github/Matheus-Sueth/Atividades-em-Python/blob/main/Exerc%C3%ADcios_em_Python.ipynb\" target=\"_parent\"><img src=\"https://colab.research.google.com/assets/colab-badge.svg\" alt=\"Open In Colab\"/></a>"
      ]
    },
    {
      "cell_type": "markdown",
      "metadata": {
        "id": "JmcL-Hhb_T9T"
      },
      "source": [
        "# 1.0 Faça um programa para avaliar equações polinomiais. O usuário deverá digitar numa linha o grau do polinômio, e na linha seguinte os valores dos coeficientes em ordem decrescente e o valor da variável separados por espaço, lembrando que os coeficientes e valor da variável podem ser reais.\n",
        "Por exemplo, para o caso f(x) = 2x² - 3x + 7 com x = 5, temos\n",
        "\n",
        "Entrada: \n",
        "2 -\n",
        "2 -3 7 5\n",
        "\n",
        "Saída:\n",
        "42.0"
      ]
    },
    {
      "cell_type": "code",
      "metadata": {
        "id": "B3zHpkFmBpCE",
        "colab": {
          "base_uri": "https://localhost:8080/"
        },
        "outputId": "b37847b1-4052-4cc1-cbf7-50bdf36f887e"
      },
      "source": [
        "def polinomio(a, x):\n",
        "  if (grau == 1):\n",
        "    return a[0]*(x**(poten)) + a[1]\n",
        "  else:\n",
        "    return a[0]*(x**(poten)) + a[1]\n",
        "\n",
        "a = []\n",
        "print('Digite o grau do polinômio: (1/2/3)')\n",
        "poten = grau = int(input(' '))\n",
        "i = 0\n",
        "while (i <= grau):\n",
        "  a.append(float(input('Digite o ' + str(i+1) + '°coeficiente: ')))\n",
        "  print(str(a[i]))\n",
        "  if (i == grau):\n",
        "    x = float(input('Digite o valor da variável: '))\n",
        "  i+=1\n",
        "if (grau == 1):\n",
        "  print(str(a[0]) + \" * \" + str(x) + \" + \" + str(a[1]))\n",
        "  f = a[0]*(x**(poten)) + a[1]\n",
        "elif (grau == 2):\n",
        "  f = a[0]*(x**poten) + a[1]*(x**(poten-1)) + a[2]\n",
        "elif (grau == 3):\n",
        "  f = a[0]*(x**poten) + a[1]*(x**poten-2 ) + a[2]*(x**(poten-1)) + a[3]\n",
        "print(str(f))"
      ],
      "execution_count": null,
      "outputs": [
        {
          "output_type": "stream",
          "text": [
            "Digite o grau do polinômio: (1/2/3)\n",
            " 1\n",
            "Digite o 1°coeficiente: 2\n",
            "2.0\n",
            "Digite o 2°coeficiente: 3\n",
            "3.0\n",
            "Digite o valor da variável: 3\n",
            "2.0 * 3.0 + 3.0\n",
            "9.0\n"
          ],
          "name": "stdout"
        }
      ]
    },
    {
      "cell_type": "markdown",
      "metadata": {
        "id": "CHKF4bJt9nX-"
      },
      "source": [
        "# 1.01 Faça um programa que receba como entrada um inteiro N e três listas de tamanho N: **produto**, **estoque** e **pedido**. A lista **produto** é formada por strings e as listas **estoque** e **pedido** são formadas por inteiros. Considere que os elementos numa mesma porsição i das três listas estão relacionadas. Seu programa deve retornar uma listagem na tela dos produtos que não têm estoque suficiente para o pedido e a respectiva quantidade que está faltando.\n",
        "#Obersevação: Os elementos de cada lista devem ser digitados pelo usuário na mesma linha e separados por vírgula.\n",
        "Por exemplo:\n",
        "\n",
        "Entrada: \n",
        "\n",
        "3 \n",
        "\n",
        "banana, tomate, cenoura \n",
        "\n",
        "26, 30, 47 \n",
        "\n",
        "20, 34, 50\n",
        "\n",
        "Saída:\n",
        "\n",
        "tomate 4\n",
        "\n",
        "cenoura 3"
      ]
    },
    {
      "cell_type": "code",
      "metadata": {
        "id": "M3Zgs1ymAIkH",
        "colab": {
          "base_uri": "https://localhost:8080/"
        },
        "outputId": "4fdbd392-73b9-41bb-9afc-1848cffa4510"
      },
      "source": [
        "#Em produção\n",
        "#valores = list(map(int, input().split()))\n",
        "prod = est = ped = []\n",
        "valor = int(input('Digite o tamanho da lista: '))\n",
        "while (len(prod) < valor):\n",
        "  prod = input().split(\",\")\n",
        "while (len(est) < valor):\n",
        "  est = input().split(\",\")\n",
        "while (len(ped) < valor):\n",
        "  ped = input().split(\",\")\n",
        "\n",
        "lista = []\n",
        "i = 0\n",
        "\n",
        "while (i < valor):\n",
        "  if (est[i] < ped[i]):\n",
        "    print(str(prod[i]) + ' ' + str(int(ped[i]) - int(est[i])))\n",
        "  i += 1\n",
        "#lista.append(int(l) - int(m))\n",
        " \n"
      ],
      "execution_count": null,
      "outputs": [
        {
          "output_type": "stream",
          "text": [
            "Digite o tamanho da lista: 5\n",
            "uva,limão,morango,açai,melancia\n",
            "10,20,30,40,50\n",
            "20,10,50,30,40\n",
            "uva 10\n",
            "morango 20\n"
          ],
          "name": "stdout"
        }
      ]
    },
    {
      "cell_type": "markdown",
      "metadata": {
        "id": "2WNjWRQaRmqn"
      },
      "source": [
        "# 1.1 Lista de números positivos terminada por 0, imprimir seus quadrados"
      ]
    },
    {
      "cell_type": "code",
      "metadata": {
        "id": "IBQ1VCkEypOX",
        "colab": {
          "base_uri": "https://localhost:8080/"
        },
        "outputId": "b675c577-6341-4357-ead7-c381efba4f2e"
      },
      "source": [
        "lista = []\n",
        "i = 0\n",
        "n = int(input('Digite quantos números você vai digitar: '))\n",
        "while (i < n):\n",
        "  lista.append(int(input('Digite ' + str(i+1) + '° número: ')))\n",
        "  i+=1\n",
        "for m in lista:\n",
        "  print(m**2)"
      ],
      "execution_count": null,
      "outputs": [
        {
          "output_type": "stream",
          "text": [
            "Digite quantos números você vai digitar: 1\n",
            "Digite 1° número: 20\n",
            "400\n"
          ],
          "name": "stdout"
        }
      ]
    },
    {
      "cell_type": "markdown",
      "metadata": {
        "id": "sx-tmhM6X9er"
      },
      "source": [
        "# 1.2 Dado n, calcular a soma dos n primeiros números inteiros positivos "
      ]
    },
    {
      "cell_type": "code",
      "metadata": {
        "colab": {
          "base_uri": "https://localhost:8080/",
          "height": 103
        },
        "id": "ginMAGl_X1CF",
        "outputId": "0ade45b6-361c-4c2f-f8b9-02329d1531e9"
      },
      "source": [
        "lista = []\n",
        "i = 0\n",
        "n = int(input('Digite quantos números você vai digitar: '))\n",
        "while (i < n):\n",
        "  lista.append(int(input('Digite o número: ')))\n",
        "  i+=1\n",
        "\n",
        "print(sum(lista))\n",
        "\n",
        "\"\"\"\n",
        "OU\n",
        "\n",
        "lista = []\n",
        "i = 0\n",
        "soma = 0\n",
        "n = int(input('Digite quantos números você vai digitar: '))\n",
        "while (i < n):\n",
        "  lista.append(int(input('Digite o número: ')))\n",
        "  i+=1\n",
        "\n",
        "for i in lista:\n",
        "  soma+=i\n",
        "print(soma)\n",
        "\"\"\""
      ],
      "execution_count": null,
      "outputs": [
        {
          "output_type": "stream",
          "text": [
            "Digite quantos números você vai digitar: 2\n",
            "Digite o número: 500\n",
            "Digite o número: 30000\n",
            "30500\n"
          ],
          "name": "stdout"
        },
        {
          "output_type": "execute_result",
          "data": {
            "application/vnd.google.colaboratory.intrinsic+json": {
              "type": "string"
            },
            "text/plain": [
              "\"\\nOU\\n\\nlista = []\\ni = 0\\nsoma = 0\\nn = int(input('Digite quantos números você vai digitar: '))\\nwhile (i < n):\\n  lista.append(int(input('Digite o número: ')))\\n  i+=1\\n\\nfor i in lista:\\n  soma+=i\\nprint(soma)\\n\""
            ]
          },
          "metadata": {
            "tags": []
          },
          "execution_count": 10
        }
      ]
    },
    {
      "cell_type": "markdown",
      "metadata": {
        "id": "-Q_L2ce9ZIm0"
      },
      "source": [
        "# 1.3 Dado n, imprimir os n primeiros números inteiros positivos ímpares.\n",
        "Exemplo: Para n = 4 a saída deverá ser 1, 3, 5, 7."
      ]
    },
    {
      "cell_type": "code",
      "metadata": {
        "id": "8w0ZG9PcZvNs"
      },
      "source": [
        "n = int(input('Digite quantos números você vai querer: '))\n",
        "i = 0\n",
        "cont = 0\n",
        "while (cont < n):\n",
        "  if (not i % 2 == 0):\n",
        "    print(i)\n",
        "    cont+=1 \n",
        "  i+=1"
      ],
      "execution_count": null,
      "outputs": []
    },
    {
      "cell_type": "markdown",
      "metadata": {
        "id": "hG2JX4as6MtH"
      },
      "source": [
        "\n",
        "# 1.4 Dados um inteiro x e um inteiro não-negativo n, calcular x**n\n",
        "\n"
      ]
    },
    {
      "cell_type": "code",
      "metadata": {
        "id": "w10NimiLD1I2"
      },
      "source": [
        "def calcularb():\n",
        "  x = int(input('Digite um inteiro: '))\n",
        "  return x\n",
        "\n",
        "def calculare():\n",
        "  n = int(input('Digite um inteiro não-negativo: '))\n",
        "  if (n < 0):\n",
        "    print('Erro!!!\\nDigite novamente')\n",
        "    return calculare()\n",
        "  else:\n",
        "    return n\n",
        "\n",
        "bas = calcularb()\n",
        "exp = calculare()\n",
        "\n",
        "print(str(bas**exp))"
      ],
      "execution_count": null,
      "outputs": []
    },
    {
      "cell_type": "markdown",
      "metadata": {
        "id": "Rs7PVfk5z3Ee"
      },
      "source": [
        "# 1.5 Uma loja de discos anota diariamente durante o mês de março a quantidade de discos vendidos. Determinar em que dia desse mês ocorreu a maior venda e qual foi a quantidade de discos vendida nesse dia."
      ]
    },
    {
      "cell_type": "code",
      "metadata": {
        "colab": {
          "base_uri": "https://localhost:8080/",
          "height": 69
        },
        "id": "OGV9o-Ph0Pe-",
        "outputId": "92c7a9b4-b292-4dc7-c7f5-0efb4e5579d5"
      },
      "source": [
        "from random import randint\n",
        "\n",
        "mes = []\n",
        "\n",
        "for i in range(0,31):\n",
        "  a = randint(0,100)\n",
        "  b = randint(0,50)\n",
        "  mes.append(a+b)\n",
        "\n",
        "maiorv = max(mes)\n",
        "quanti = mes.index(maiorv)\n",
        "print('A maior venda de discos foi no dia ' + str(quanti+1) + ' de Março\\nForam vendidos ' + str(maiorv) + ' discos')\n",
        "\n",
        "\"\"\"\n",
        "OU\n",
        "\n",
        "maiorv = mes[0]\n",
        "\n",
        "for aux in mes:\n",
        "  if (maiorv < aux):\n",
        "    maiorv = aux\n",
        "\n",
        "quanti = mes.index(maiorv)\n",
        "print('A maior venda de discos foi no dia ' + str(quanti+1) + ' de Março\\nForam vendidos ' + str(maiorv) + ' discos')\n",
        "\"\"\""
      ],
      "execution_count": null,
      "outputs": [
        {
          "output_type": "stream",
          "text": [
            "A maior venda de discos foi no dia 1 de Março\n",
            "Foram vendidos 143 discos\n"
          ],
          "name": "stdout"
        },
        {
          "output_type": "execute_result",
          "data": {
            "application/vnd.google.colaboratory.intrinsic+json": {
              "type": "string"
            },
            "text/plain": [
              "\"\\nmaiorv = mes[0]\\n\\nfor aux in mes:\\n  if (maiorv < aux):\\n    maiorv = aux\\n\\nquanti = mes.index(maiorv)\\nprint('A maior venda de discos foi no dia ' + str(quanti+1) + ' de Março\\nForam vendidos ' + str(maiorv) + ' discos')\\n\""
            ]
          },
          "metadata": {
            "tags": []
          },
          "execution_count": 15
        }
      ]
    },
    {
      "cell_type": "markdown",
      "metadata": {
        "id": "llCpIeM5HgfD"
      },
      "source": [
        "# 1.6 Dados o número n de alunos de uma turma de Introdução aos Autômatos a Pilha (MAC 414) e suas notas da primeira prova, determinar a maior e a menor nota obtidas por essa turma\n",
        "Obs: nota máxima = 100 e nota mínima = 0 "
      ]
    },
    {
      "cell_type": "code",
      "metadata": {
        "colab": {
          "base_uri": "https://localhost:8080/",
          "height": 86
        },
        "id": "uKMzAlLpIA4B",
        "outputId": "f9a56e08-f0ea-42c1-bae2-5d97132232e9"
      },
      "source": [
        "from random import randint\n",
        "\n",
        "n = 100\n",
        "notas = []\n",
        "\n",
        "for l in range(0,n):\n",
        "  a = randint(0,100)\n",
        "  notas.append(a)\n",
        "\n",
        "maiorn1 = max(notas)\n",
        "maiorn2 = min(notas)\n",
        "\n",
        "print('Nota Máxima = ' + str(maiorn1) + '\\nNota Mínima =  ' + str(maiorn2))  \n",
        "\n",
        "\"\"\"\n",
        "OU\n",
        "\n",
        "maiorn1 = notas[0]\n",
        "maiorn2 = notas[0]\n",
        "\n",
        "for aux in notas:\n",
        "  if (maiorn1 < aux):\n",
        "    maiorn1 = aux\n",
        "  if (maiorn2 > aux):\n",
        "    maiorn2 = aux\n",
        "\n",
        "print('Nota Máxima = ' + str(maiorn1) + '\\nNota Mínima =  ' + str(maiorn2))  \n",
        "\"\"\""
      ],
      "execution_count": null,
      "outputs": [
        {
          "output_type": "stream",
          "text": [
            "Nota Máxima = 100\n",
            "Nota Mínima =  0\n"
          ],
          "name": "stdout"
        },
        {
          "output_type": "execute_result",
          "data": {
            "application/vnd.google.colaboratory.intrinsic+json": {
              "type": "string"
            },
            "text/plain": [
              "\"\\nOU\\n\\nmaiorn1 = notas[0]\\nmaiorn2 = notas[0]\\n\\nfor aux in notas:\\n  if (maiorn1 < aux):\\n    maiorn1 = aux\\n  if (maiorn2 > aux):\\n    maiorn2 = aux\\n\\nprint('Nota Máxima = ' + str(maiorn1) + '\\nNota Mínima =  ' + str(maiorn2))  \\n\""
            ]
          },
          "metadata": {
            "tags": []
          },
          "execution_count": 34
        }
      ]
    },
    {
      "cell_type": "markdown",
      "metadata": {
        "id": "mLGUzQ_iK0VF"
      },
      "source": [
        "# 1.7 Dados n e uma seqüência de n números inteiros, determinar a soma dos números pares."
      ]
    },
    {
      "cell_type": "code",
      "metadata": {
        "colab": {
          "base_uri": "https://localhost:8080/"
        },
        "id": "6TObhugnLGXv",
        "outputId": "55b8e48d-ded7-41b5-a7f9-a9a6c04424d0"
      },
      "source": [
        "from random import randint\n",
        "\n",
        "soma = 0\n",
        "n = 5\n",
        "notas = []\n",
        "\n",
        "for l in range(0,n):\n",
        "  a = randint(0,100)\n",
        "  notas.append(a)\n",
        "  if (notas[l] % 2 == 0):\n",
        "    soma += a\n",
        "\n",
        "print(soma)"
      ],
      "execution_count": null,
      "outputs": [
        {
          "output_type": "stream",
          "text": [
            "100\n"
          ],
          "name": "stdout"
        }
      ]
    },
    {
      "cell_type": "markdown",
      "metadata": {
        "id": "ccLiOuBXOi3L"
      },
      "source": [
        "# 1.8 Dado um inteiro não-negativo n, determinar n!"
      ]
    },
    {
      "cell_type": "code",
      "metadata": {
        "colab": {
          "base_uri": "https://localhost:8080/"
        },
        "id": "hiw1ZsFwOrXY",
        "outputId": "9ce78054-861d-4f8f-fcf9-a813c314d175"
      },
      "source": [
        "from random import randint\n",
        "\n",
        "def fatorial(n):\n",
        "  if (n <= 1):\n",
        "    return 1\n",
        "  else:\n",
        "    return n * fatorial(n-1)\n",
        "\n",
        "n = randint(0,10)\n",
        "f = fatorial(n)\n",
        "\n",
        "print('O fatorial de ' + str(n) +  ' é ' + str(f))"
      ],
      "execution_count": null,
      "outputs": [
        {
          "output_type": "stream",
          "text": [
            "O fatorial de 4 é 24\n"
          ],
          "name": "stdout"
        }
      ]
    },
    {
      "cell_type": "markdown",
      "metadata": {
        "id": "cgbMSrD44zNR"
      },
      "source": [
        "# 1.9 Dado n e dois números inteiros positivos i e j, imprimir em ordem crescente os n primeiros naturais que são múltiplos de i ou de j e ou de ambos.\n",
        "Exemplo: Para n = 6, i = 2 e j = 3 a saída deverá ser: 0, 2, 3, 4, 6, 8."
      ]
    },
    {
      "cell_type": "code",
      "metadata": {
        "colab": {
          "base_uri": "https://localhost:8080/"
        },
        "id": "xgOuYpWg5rLg",
        "outputId": "88b3f91e-d4e1-49c6-a520-10b2b1ca41f2"
      },
      "source": [
        "def numeroj(i):\n",
        "  j = randint(1,10)\n",
        "  if (i == j):\n",
        "    return numeroj(i)\n",
        "  else:\n",
        "    return j\n",
        "\n",
        "n = 6 #randint(2,20)\n",
        "i = 2 #randint(1,10)\n",
        "j = 3 #numeroj(i)\n",
        "m = []\n",
        "o = []\n",
        "p = []\n",
        "\n",
        "while (len(m) < n):\n",
        "  for k in range(0,n):\n",
        "    m.append(i * k)\n",
        "\n",
        "while (len(o) < n):\n",
        "  for k in range(0,n):\n",
        "    o.append(j * k)\n",
        "\n",
        "p = m + o\n",
        "\n",
        "for k in p:\n",
        "  if (p.count(k) >= 2):\n",
        "     p.remove(k)\n",
        "p.sort()\n",
        "\n",
        "print('i = ' + str(i) + ' j = ' + str(j))\n",
        "print(p[:n])"
      ],
      "execution_count": null,
      "outputs": [
        {
          "output_type": "stream",
          "text": [
            "i = 2 j = 3\n",
            "[0, 2, 3, 4, 6, 8]\n"
          ],
          "name": "stdout"
        }
      ]
    },
    {
      "cell_type": "markdown",
      "metadata": {
        "id": "SFHnFvz8SDDl"
      },
      "source": [
        "# 1.10 Dizemos que um número natural é triangular se ele é produto de três números naturais consecutivos.\n",
        "Exemplo: 120 é triangular, pois 4x5x6 = 120\n",
        "# Dado um inteiro não-negativo n, verificar se n é triangular"
      ]
    },
    {
      "cell_type": "code",
      "metadata": {
        "colab": {
          "base_uri": "https://localhost:8080/"
        },
        "id": "vptIx4RRShM3",
        "outputId": "945d2bcb-df67-4836-8007-3828e5be4973"
      },
      "source": [
        "def calculo(n):\n",
        "  if (n == 1):\n",
        "    return 1\n",
        "  elif (n > 1):\n",
        "    return (n*(n+1))/2\n",
        "  else:\n",
        "    return 'Não é triangular'\n",
        "\n",
        "\n",
        "n = 15\n",
        "\n",
        "resposta = calculo(n)\n",
        "\n",
        "print(resposta)"
      ],
      "execution_count": null,
      "outputs": [
        {
          "output_type": "stream",
          "text": [
            "120.0\n"
          ],
          "name": "stdout"
        }
      ]
    },
    {
      "cell_type": "code",
      "metadata": {
        "colab": {
          "base_uri": "https://localhost:8080/"
        },
        "id": "4R5-F4eNIW8g",
        "outputId": "bdd17297-48de-4499-8578-98d7c7e1d25e"
      },
      "source": [
        "def n_triangular(n):\n",
        "  for i in range(0,n,1):\n",
        "    if (i*(i+1)*(i+2) == n):\n",
        "      return \"Sim, ele é um número triangular\"\n",
        "  return \"Não, ele não é um número triangular\"\n",
        "    \n",
        "\n",
        "n = 720\n",
        "resposta = n_triangular(n)\n",
        "print(resposta)"
      ],
      "execution_count": null,
      "outputs": [
        {
          "output_type": "stream",
          "text": [
            "Sim, ele é um número triangular\n"
          ],
          "name": "stdout"
        }
      ]
    },
    {
      "cell_type": "markdown",
      "metadata": {
        "id": "bSHW8fMmNSsy"
      },
      "source": [
        "# 1.11 Dado inteiro positivo p, verificar se p é primo"
      ]
    },
    {
      "cell_type": "code",
      "metadata": {
        "colab": {
          "base_uri": "https://localhost:8080/"
        },
        "id": "KY3YUuOq1nR9",
        "outputId": "91290a7b-f901-49d9-9c02-4d3b48ac3b39"
      },
      "source": [
        "from random import randint\n",
        "\n",
        "p = randint(0,100)\n",
        "\n",
        "if (p < 2):\n",
        "  print(str(p) + ' Não é primo')\n",
        "elif (p > 1 and p <= 7):\n",
        "  if (p == 2 or p == 3 or p == 5 or p == 7):\n",
        "    print(str(p) + ' é primo')\n",
        "  else:\n",
        "    print(str(p) + ' Não é primo')\n",
        "else:\n",
        "  if (p % 2 == 0 or p % 3 == 0 or p % 5 == 0 or p % 7 == 0):\n",
        "    print(str(p) + ' Não é primo')\n",
        "  else:\n",
        "    print(str(p) + ' é primo')"
      ],
      "execution_count": null,
      "outputs": [
        {
          "output_type": "stream",
          "text": [
            "29 é primo\n"
          ],
          "name": "stdout"
        }
      ]
    },
    {
      "cell_type": "markdown",
      "metadata": {
        "id": "io1AOZhs4F2m"
      },
      "source": [
        "# 1.12 Dados dois números inteiros positivos, determinar o máximo divisor comum entre eles usando o algoritmo de Euclides\n",
        "![image.png](data:image/png;base64,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)"
      ]
    },
    {
      "cell_type": "code",
      "metadata": {
        "colab": {
          "base_uri": "https://localhost:8080/"
        },
        "id": "rwfw-vPv4q4V",
        "outputId": "6428d11e-a34a-4f11-d13b-21a7cca2ddb4"
      },
      "source": [
        "from random import randint\n",
        "\n",
        "def MDC(a,b):\n",
        "  if (b == 0):\n",
        "    return a\n",
        "  else:\n",
        "    return MDC(b, a % b)\n",
        "\n",
        "m = randint(100,1000)\n",
        "d = randint(100,1000)\n",
        "c = MDC(m,d)\n",
        "print('O máximo divisor comum entre ' + str(m) + ' e ' + str(d) + ' é ' + str(c))"
      ],
      "execution_count": null,
      "outputs": [
        {
          "output_type": "stream",
          "text": [
            "O máximo divisor comum entre 405 e 621 é 27\n"
          ],
          "name": "stdout"
        }
      ]
    },
    {
      "cell_type": "markdown",
      "metadata": {
        "id": "zzqNCeup9yV4"
      },
      "source": [
        "# 1.13 Dizemos que um inteiro positivo n é perfeito se for igual a soma de seus divisores positivos diferentes de n.\n",
        "Exemplo: 6 é perfeito, pois 1+2+3 = 6\n",
        "\n",
        "Verificar se um dado número inteiro positivo é perfeito "
      ]
    },
    {
      "cell_type": "code",
      "metadata": {
        "colab": {
          "base_uri": "https://localhost:8080/"
        },
        "id": "qutk2eaZ-PPJ",
        "outputId": "78e81666-ca7e-4235-e466-9c3600895b1e"
      },
      "source": [
        "n = 6\n",
        "soma = 0\n",
        "divisores = []\n",
        "\n",
        "for i in range(1,n):\n",
        "  if (n % i == 0):\n",
        "    divisores.append(i)\n",
        "for l in divisores:\n",
        "  soma += l\n",
        "if (soma == n):\n",
        "  print(\"Ele é um número perfeito\")\n",
        "else:\n",
        "  print(\"Ele não é um número perfeito\")\n",
        "\n",
        "print(divisores)"
      ],
      "execution_count": null,
      "outputs": [
        {
          "output_type": "stream",
          "text": [
            "Ele é um número perfeito\n",
            "[1, 2, 3]\n"
          ],
          "name": "stdout"
        }
      ]
    },
    {
      "cell_type": "markdown",
      "metadata": {
        "id": "7KU5ncYwCVN1"
      },
      "source": [
        "#![image.png](data:image/png;base64,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)"
      ]
    },
    {
      "cell_type": "code",
      "metadata": {
        "colab": {
          "base_uri": "https://localhost:8080/"
        },
        "id": "JqJzANgbCn9N",
        "outputId": "654f913c-fc32-497d-d460-54c12914e1c8"
      },
      "source": [
        "from random import randint\n",
        "\n",
        "def fibonacci(n):\n",
        "  if (n <= 2):\n",
        "    return 1\n",
        "  else:\n",
        "    return fibonacci(n-1) + fibonacci(n-2)\n",
        "\n",
        "n = randint(1,20)\n",
        "\n",
        "print('N = ' + str(n) + ' e sua seqüência é ' + str(fibonacci(n)))"
      ],
      "execution_count": null,
      "outputs": [
        {
          "output_type": "stream",
          "text": [
            "N = 15 e sua seqüência é 610\n"
          ],
          "name": "stdout"
        }
      ]
    },
    {
      "cell_type": "markdown",
      "metadata": {
        "id": "UUaTpXlIIIoK"
      },
      "source": [
        "# ![image.png](data:image/png;base64,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)"
      ]
    },
    {
      "cell_type": "code",
      "metadata": {
        "colab": {
          "base_uri": "https://localhost:8080/"
        },
        "id": "hs19pljCIMPw",
        "outputId": "109d9f94-3140-4285-9d51-688bdd5cfde1"
      },
      "source": [
        "from random import randint\n",
        "\n",
        "n = randint(1,10)\n",
        "j = randint(1,50)\n",
        "m = randint(1,50)\n",
        "\n",
        "for i in range(0,j):\n",
        "  if (i % m == j % m):\n",
        "    valores.append(i)\n",
        "\n",
        "\n",
        "print('J = ' + str(j) + ' M = ' + str(m) + ' e os ' + str(n) + ' primeiros números naturais são: ' + str(valores[:n]))"
      ],
      "execution_count": null,
      "outputs": [
        {
          "output_type": "stream",
          "text": [
            "J = 19 M = 21 e os 10 primeiros números naturais são: [3, 7, 11, 15, 19, 23, 27, 31, 35, 39]\n"
          ],
          "name": "stdout"
        }
      ]
    }
  ]
}