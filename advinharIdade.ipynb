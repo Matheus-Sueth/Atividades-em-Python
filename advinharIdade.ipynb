{
  "nbformat": 4,
  "nbformat_minor": 0,
  "metadata": {
    "colab": {
      "name": "advinharIdade.ipynb",
      "provenance": [],
      "authorship_tag": "ABX9TyNDFnG5ab8xioJf2mtdwzrH"
    },
    "kernelspec": {
      "name": "python3",
      "display_name": "Python 3"
    },
    "language_info": {
      "name": "python"
    }
  },
  "cells": [
    {
      "cell_type": "code",
      "metadata": {
        "colab": {
          "base_uri": "https://localhost:8080/"
        },
        "id": "knxgKTEGMIO4",
        "outputId": "65599a14-5936-4f9c-a724-7d25ec9b1265"
      },
      "source": [
        "from datetime import datetime\n",
        "\n",
        "idade = int(input(\"Qual a sua idade?\\n\"))\n",
        "now = datetime.now()\n",
        "ano = now.year\n",
        "anoN = ano - idade\n",
        "\n",
        "veri = input(\"Já fez aniversário? (sim/nao)\\n\")\n",
        "\n",
        "if(veri == 'SIM' or veri == 'sim'):\n",
        "  print(\"Você nasceu em \" + str(anoN))\n",
        "else:\n",
        "  print(\"Você nasceu em \" + str(anoN - 1))\n"
      ],
      "execution_count": null,
      "outputs": [
        {
          "output_type": "stream",
          "text": [
            "Qual a sua idade?\n",
            "19\n",
            "Já fez aniversário? (sim/nao)\n",
            "sim\n",
            "Você nasceu em 2002\n"
          ],
          "name": "stdout"
        }
      ]
    },
    {
      "cell_type": "code",
      "metadata": {
        "id": "_qp6Ba1UT0Lp"
      },
      "source": [
        "# Criando e escrevendo em arquivos de texto (modo 'w').\n",
        "arquivo = open('arq01.txt','w')\n",
        "arquivo.write(\"Bóson4 Treinamentos\\n\")\n",
        "arquivo.write(\"Criando1 um arquivo de texto com Python\\n\")\n",
        "arquivo.write(\"Arquivo2 criado por Fábio dos Reis\\n\")\n",
        "arquivo.write(\"É isso3 ai pessoal!\\n\")\n",
        "arquivo.close()\n",
        "\n",
        "# Lendo o arquivo criado:\n",
        "arquivo = open('arq01.txt','r')\n",
        "for linha in arquivo:\n",
        "    linha = linha.rstrip()\n",
        "    print (linha)\n",
        "arquivo.close()"
      ],
      "execution_count": null,
      "outputs": []
    },
    {
      "cell_type": "code",
      "metadata": {
        "id": "UMPjxUb2UD5w"
      },
      "source": [
        "# Acrescentando texto ao arquivo criado, usando o modo de acesso 'a'\n",
        "print(\"\\n\")\n",
        "texto = input(\"Digite uma frase para acrescentar ao arquivo:\\n\")\n",
        "arquivo = open('arq01.txt','a')\n",
        "arquivo.write(texto + \"\\n\")\n",
        "print(\"Operação concluída no arquivo \" + arquivo.name + \" usando o modo de acesso \" + arquivo.mode)\n",
        "arquivo.close()\n",
        "\n",
        "print(\"\\nTexto alterado:\")\n",
        "arquivo = open('arq01.txt','r')\n",
        "for linha in arquivo:\n",
        "    linha = linha.rstrip()\n",
        "    print (linha)\n",
        "arquivo.close()"
      ],
      "execution_count": null,
      "outputs": []
    }
  ]
}