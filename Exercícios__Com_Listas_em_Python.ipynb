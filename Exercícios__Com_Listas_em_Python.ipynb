{
  "nbformat": 4,
  "nbformat_minor": 0,
  "metadata": {
    "colab": {
      "name": "Exercícios _Com_Listas_em_Python.ipynb",
      "provenance": [],
      "authorship_tag": "ABX9TyPCpt9b3ZYdeaXy9o6TOxH6",
      "include_colab_link": true
    },
    "kernelspec": {
      "name": "python3",
      "display_name": "Python 3"
    },
    "language_info": {
      "name": "python"
    }
  },
  "cells": [
    {
      "cell_type": "markdown",
      "metadata": {
        "id": "view-in-github",
        "colab_type": "text"
      },
      "source": [
        "<a href=\"https://colab.research.google.com/github/Matheus-Sueth/Atividades-em-Python/blob/main/Exerc%C3%ADcios__Com_Listas_em_Python.ipynb\" target=\"_parent\"><img src=\"https://colab.research.google.com/assets/colab-badge.svg\" alt=\"Open In Colab\"/></a>"
      ]
    },
    {
      "cell_type": "markdown",
      "metadata": {
        "id": "KrM7STycuHVa"
      },
      "source": [
        "#https://wiki.python.org.br/ExerciciosListas"
      ]
    },
    {
      "cell_type": "markdown",
      "metadata": {
        "id": "g92RTYbtuH8y"
      },
      "source": [
        "#![image.png](data:image/png;base64,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)"
      ]
    },
    {
      "cell_type": "markdown",
      "metadata": {
        "id": "psxI4wu1vdf4"
      },
      "source": [
        "#Bibliotecas"
      ]
    },
    {
      "cell_type": "code",
      "metadata": {
        "id": "BtpIqerwvfjU"
      },
      "source": [
        "import numpy as np\n",
        "from random import randint, uniform"
      ],
      "execution_count": 66,
      "outputs": []
    },
    {
      "cell_type": "markdown",
      "metadata": {
        "id": "rKvUBngkuTI6"
      },
      "source": [
        "#![image.png](data:image/png;base64,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)"
      ]
    },
    {
      "cell_type": "code",
      "metadata": {
        "colab": {
          "base_uri": "https://localhost:8080/"
        },
        "id": "dG5_RYpyuW55",
        "outputId": "8f05d4f8-06dc-4d52-8478-1a939d4470bf"
      },
      "source": [
        "listaVetor = [5,9,6,7,1]\n",
        "for vetor in listaVetor:\n",
        "  print(vetor)"
      ],
      "execution_count": 1,
      "outputs": [
        {
          "output_type": "stream",
          "text": [
            "5\n",
            "9\n",
            "6\n",
            "7\n",
            "1\n"
          ],
          "name": "stdout"
        }
      ]
    },
    {
      "cell_type": "markdown",
      "metadata": {
        "id": "TScvIseaurBK"
      },
      "source": [
        "#![image.png](data:image/png;base64,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)"
      ]
    },
    {
      "cell_type": "code",
      "metadata": {
        "colab": {
          "base_uri": "https://localhost:8080/"
        },
        "id": "1VZJYSsquvhD",
        "outputId": "3cea066e-8cad-4726-a861-278da11a4dde"
      },
      "source": [
        "listaVetor = [1,2,3,4,5,6,7,8,9,0]\n",
        "for indice in range(len(listaVetor)-1,-1,-1):\n",
        "  print(listaVetor[indice])"
      ],
      "execution_count": 6,
      "outputs": [
        {
          "output_type": "stream",
          "text": [
            "0\n",
            "9\n",
            "8\n",
            "7\n",
            "6\n",
            "5\n",
            "4\n",
            "3\n",
            "2\n",
            "1\n"
          ],
          "name": "stdout"
        }
      ]
    },
    {
      "cell_type": "markdown",
      "metadata": {
        "id": "Cm9ffAYjvPuF"
      },
      "source": [
        "#![image.png](data:image/png;base64,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)"
      ]
    },
    {
      "cell_type": "code",
      "metadata": {
        "colab": {
          "base_uri": "https://localhost:8080/"
        },
        "id": "-mrdZiaAvTYj",
        "outputId": "8205a83e-ff6d-49da-91c5-1afbe2057660"
      },
      "source": [
        "listaNotas = [5.5, 9.7, 10.0, 8.9]\n",
        "print('Notas =', end=' ')\n",
        "for indice in range(len(listaNotas)):\n",
        "  print(listaNotas[indice], end='\\n\\t')\n",
        "  \n",
        "print('\\nMédia =',np.mean(listaNotas))"
      ],
      "execution_count": 24,
      "outputs": [
        {
          "output_type": "stream",
          "text": [
            "Notas = 5.5\n",
            "\t9.7\n",
            "\t10.0\n",
            "\t8.9\n",
            "\t\n",
            "Média = 8.525\n"
          ],
          "name": "stdout"
        }
      ]
    },
    {
      "cell_type": "markdown",
      "metadata": {
        "id": "U3Q00sY2wnCA"
      },
      "source": [
        "#![image.png](data:image/png;base64,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)"
      ]
    },
    {
      "cell_type": "code",
      "metadata": {
        "colab": {
          "base_uri": "https://localhost:8080/"
        },
        "id": "XVdYhaXPwrho",
        "outputId": "fa84b1bf-982d-4ccf-c6d1-34fd8c476c22"
      },
      "source": [
        "listaVetor = ['a', 's', 'd', 'f', 'g', 'h', 'j', 'k', 'e', 'ç']\n",
        "vogais = 0\n",
        "for vetor in listaVetor:\n",
        "  vetor.lower()\n",
        "  if vetor == 'a' or vetor == 'e' or vetor == 'i' or vetor == 'o' or vetor == 'u':\n",
        "    listaVetor.remove(vetor)\n",
        "print('Quantidade de consoantes =',len(listaVetor)-vogais)\n",
        "print(listaVetor)"
      ],
      "execution_count": 34,
      "outputs": [
        {
          "output_type": "stream",
          "text": [
            "Quantidade de consoantes = 8\n",
            "['s', 'd', 'f', 'g', 'h', 'j', 'k', 'ç']\n"
          ],
          "name": "stdout"
        }
      ]
    },
    {
      "cell_type": "markdown",
      "metadata": {
        "id": "tJidns3HzoaT"
      },
      "source": [
        "#![image.png](data:image/png;base64,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)"
      ]
    },
    {
      "cell_type": "code",
      "metadata": {
        "colab": {
          "base_uri": "https://localhost:8080/"
        },
        "id": "3prDRVuGzsMk",
        "outputId": "c575cde5-71cc-4feb-b656-9894efbd8972"
      },
      "source": [
        "listaVetor = []\n",
        "vetorPar = []\n",
        "vetorImpar = []\n",
        "for _ in range(20):\n",
        "  listaVetor.append(randint(0,100))\n",
        "for numero in listaVetor:\n",
        "  if numero % 2 == 0:\n",
        "    vetorPar.append(numero)\n",
        "  else:\n",
        "    vetorImpar.append(numero)\n",
        "\n",
        "print('Vetor inicial =',listaVetor,'\\nVetor com números pares =',vetorPar,'\\nVetor com números impares =',vetorImpar)"
      ],
      "execution_count": 48,
      "outputs": [
        {
          "output_type": "stream",
          "text": [
            "Vetor inicial = [43, 89, 50, 19, 0, 62, 28, 11, 84, 19, 51, 67, 99, 6, 57, 36, 69, 32, 5, 54] \n",
            "Vetor com números pares = [50, 0, 62, 28, 84, 6, 36, 32, 54] \n",
            "Vetor com números impares = [43, 89, 19, 11, 19, 51, 67, 99, 57, 69, 5]\n"
          ],
          "name": "stdout"
        }
      ]
    },
    {
      "cell_type": "markdown",
      "metadata": {
        "id": "WFApGkOq2DT1"
      },
      "source": [
        "#![image.png](data:image/png;base64,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)"
      ]
    },
    {
      "cell_type": "code",
      "metadata": {
        "colab": {
          "base_uri": "https://localhost:8080/"
        },
        "id": "xFTlg9KC2IIc",
        "outputId": "3c26cfa7-7edb-4b3f-fd7d-42d66575f9ff"
      },
      "source": [
        "alunos = []\n",
        "for aluno in range(10):\n",
        "  notas = []\n",
        "  for _ in range(4):\n",
        "    notas.append(round(uniform(0,10),2))\n",
        "  alunos.append(notas)\n",
        "vetorMedia = []\n",
        "for aluno in alunos:\n",
        "  vetorMedia.append(round(np.mean(aluno),2))\n",
        "for aluno in vetorMedia:\n",
        "  if aluno > 7.0:\n",
        "    print(aluno)"
      ],
      "execution_count": 84,
      "outputs": [
        {
          "output_type": "stream",
          "text": [
            "7.72\n",
            "8.05\n"
          ],
          "name": "stdout"
        }
      ]
    },
    {
      "cell_type": "markdown",
      "metadata": {
        "id": "TP-0LDzs8vFh"
      },
      "source": [
        "#![image.png](data:image/png;base64,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)"
      ]
    },
    {
      "cell_type": "code",
      "metadata": {
        "colab": {
          "base_uri": "https://localhost:8080/"
        },
        "id": "WliN31zj80p7",
        "outputId": "ad49c837-71d0-4e50-8ac5-3d98dfc92b8e"
      },
      "source": [
        "listaNumeros = [5, 9, 1, 8, 6]\n",
        "somaNumeros = 0\n",
        "multiplicaNumeros = 1\n",
        "for numero in listaNumeros:\n",
        "  somaNumeros+=numero\n",
        "  multiplicaNumeros*=numero\n",
        "\n",
        "print('Soma =',somaNumeros)\n",
        "print('Multiplicação =',multiplicaNumeros)\n",
        "print('Números = ',end='')\n",
        "for numero in listaNumeros:\n",
        "  print(numero,end=' ')"
      ],
      "execution_count": 92,
      "outputs": [
        {
          "output_type": "stream",
          "text": [
            "Soma = 29\n",
            "Multiplicação = 2160\n",
            "Números = 5 9 1 8 6 "
          ],
          "name": "stdout"
        }
      ]
    },
    {
      "cell_type": "markdown",
      "metadata": {
        "id": "isl5R2EI-axG"
      },
      "source": [
        "#![image.png](data:image/png;base64,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)"
      ]
    },
    {
      "cell_type": "code",
      "metadata": {
        "colab": {
          "base_uri": "https://localhost:8080/"
        },
        "id": "aJkdcHdb-irA",
        "outputId": "67d417f1-a36e-45c6-e98a-2f223ebb27ee"
      },
      "source": [
        "pessoas = []\n",
        "for pessoa in range(5):\n",
        "  idadeEaltura = []\n",
        "  for _ in range(1):\n",
        "    idade = randint(20,60)\n",
        "    altura = round(uniform(1,2),2)\n",
        "    lista = [idade,altura]\n",
        "    idadeEaltura.extend(lista)\n",
        "  pessoas.append(idadeEaltura)\n",
        "contador = 1\n",
        "for pessoa in pessoas:\n",
        "  print(f'{contador}°Pessoa: ')\n",
        "  for indice in range(len(pessoa)-1,-1,-1):\n",
        "    print(pessoa[indice])\n",
        "  contador+=1"
      ],
      "execution_count": 110,
      "outputs": [
        {
          "output_type": "stream",
          "text": [
            "1°Pessoa: \n",
            "1.82\n",
            "53\n",
            "2°Pessoa: \n",
            "1.12\n",
            "46\n",
            "3°Pessoa: \n",
            "1.48\n",
            "29\n",
            "4°Pessoa: \n",
            "1.99\n",
            "21\n",
            "5°Pessoa: \n",
            "1.62\n",
            "42\n"
          ],
          "name": "stdout"
        }
      ]
    }
  ]
}