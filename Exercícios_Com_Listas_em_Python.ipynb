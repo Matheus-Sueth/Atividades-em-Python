{
  "nbformat": 4,
  "nbformat_minor": 0,
  "metadata": {
    "colab": {
      "name": "Exercícios_Com_Listas_em_Python.ipynb",
      "provenance": [],
      "authorship_tag": "ABX9TyMFVrtV1by5EiHphrp1FZi+",
      "include_colab_link": true
    },
    "kernelspec": {
      "name": "python3",
      "display_name": "Python 3"
    },
    "language_info": {
      "name": "python"
    }
  },
  "cells": [
    {
      "cell_type": "markdown",
      "metadata": {
        "id": "view-in-github",
        "colab_type": "text"
      },
      "source": [
        "<a href=\"https://colab.research.google.com/github/Matheus-Sueth/Atividades-em-Python/blob/main/Exerc%C3%ADcios_Com_Listas_em_Python.ipynb\" target=\"_parent\"><img src=\"https://colab.research.google.com/assets/colab-badge.svg\" alt=\"Open In Colab\"/></a>"
      ]
    },
    {
      "cell_type": "markdown",
      "metadata": {
        "id": "KrM7STycuHVa"
      },
      "source": [
        "#https://wiki.python.org.br/ExerciciosListas"
      ]
    },
    {
      "cell_type": "markdown",
      "metadata": {
        "id": "g92RTYbtuH8y"
      },
      "source": [
        "#![image.png](data:image/png;base64,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)"
      ]
    },
    {
      "cell_type": "markdown",
      "metadata": {
        "id": "psxI4wu1vdf4"
      },
      "source": [
        "#Bibliotecas"
      ]
    },
    {
      "cell_type": "code",
      "metadata": {
        "id": "BtpIqerwvfjU"
      },
      "source": [
        "import numpy as np\n",
        "from random import randint, uniform"
      ],
      "execution_count": 1,
      "outputs": []
    },
    {
      "cell_type": "markdown",
      "metadata": {
        "id": "rKvUBngkuTI6"
      },
      "source": [
        "#![image.png](data:image/png;base64,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)"
      ]
    },
    {
      "cell_type": "code",
      "metadata": {
        "colab": {
          "base_uri": "https://localhost:8080/"
        },
        "id": "dG5_RYpyuW55",
        "outputId": "8f05d4f8-06dc-4d52-8478-1a939d4470bf"
      },
      "source": [
        "listaVetor = [5,9,6,7,1]\n",
        "for vetor in listaVetor:\n",
        "  print(vetor)"
      ],
      "execution_count": null,
      "outputs": [
        {
          "output_type": "stream",
          "text": [
            "5\n",
            "9\n",
            "6\n",
            "7\n",
            "1\n"
          ],
          "name": "stdout"
        }
      ]
    },
    {
      "cell_type": "markdown",
      "metadata": {
        "id": "TScvIseaurBK"
      },
      "source": [
        "#![image.png](data:image/png;base64,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)"
      ]
    },
    {
      "cell_type": "code",
      "metadata": {
        "colab": {
          "base_uri": "https://localhost:8080/"
        },
        "id": "1VZJYSsquvhD",
        "outputId": "3cea066e-8cad-4726-a861-278da11a4dde"
      },
      "source": [
        "listaVetor = [1,2,3,4,5,6,7,8,9,0]\n",
        "for indice in range(len(listaVetor)-1,-1,-1):\n",
        "  print(listaVetor[indice])"
      ],
      "execution_count": null,
      "outputs": [
        {
          "output_type": "stream",
          "text": [
            "0\n",
            "9\n",
            "8\n",
            "7\n",
            "6\n",
            "5\n",
            "4\n",
            "3\n",
            "2\n",
            "1\n"
          ],
          "name": "stdout"
        }
      ]
    },
    {
      "cell_type": "markdown",
      "metadata": {
        "id": "Cm9ffAYjvPuF"
      },
      "source": [
        "#![image.png](data:image/png;base64,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)"
      ]
    },
    {
      "cell_type": "code",
      "metadata": {
        "colab": {
          "base_uri": "https://localhost:8080/"
        },
        "id": "-mrdZiaAvTYj",
        "outputId": "8205a83e-ff6d-49da-91c5-1afbe2057660"
      },
      "source": [
        "listaNotas = [5.5, 9.7, 10.0, 8.9]\n",
        "print('Notas =', end=' ')\n",
        "for indice in range(len(listaNotas)):\n",
        "  print(listaNotas[indice], end='\\n\\t')\n",
        "  \n",
        "print('\\nMédia =',np.mean(listaNotas))"
      ],
      "execution_count": null,
      "outputs": [
        {
          "output_type": "stream",
          "text": [
            "Notas = 5.5\n",
            "\t9.7\n",
            "\t10.0\n",
            "\t8.9\n",
            "\t\n",
            "Média = 8.525\n"
          ],
          "name": "stdout"
        }
      ]
    },
    {
      "cell_type": "markdown",
      "metadata": {
        "id": "U3Q00sY2wnCA"
      },
      "source": [
        "#![image.png](data:image/png;base64,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)"
      ]
    },
    {
      "cell_type": "code",
      "metadata": {
        "colab": {
          "base_uri": "https://localhost:8080/"
        },
        "id": "XVdYhaXPwrho",
        "outputId": "fa84b1bf-982d-4ccf-c6d1-34fd8c476c22"
      },
      "source": [
        "listaVetor = ['a', 's', 'd', 'f', 'g', 'h', 'j', 'k', 'e', 'ç']\n",
        "vogais = 0\n",
        "for vetor in listaVetor:\n",
        "  vetor.lower()\n",
        "  if vetor == 'a' or vetor == 'e' or vetor == 'i' or vetor == 'o' or vetor == 'u':\n",
        "    listaVetor.remove(vetor)\n",
        "print('Quantidade de consoantes =',len(listaVetor)-vogais)\n",
        "print(listaVetor)"
      ],
      "execution_count": null,
      "outputs": [
        {
          "output_type": "stream",
          "text": [
            "Quantidade de consoantes = 8\n",
            "['s', 'd', 'f', 'g', 'h', 'j', 'k', 'ç']\n"
          ],
          "name": "stdout"
        }
      ]
    },
    {
      "cell_type": "markdown",
      "metadata": {
        "id": "tJidns3HzoaT"
      },
      "source": [
        "#![image.png](data:image/png;base64,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)"
      ]
    },
    {
      "cell_type": "code",
      "metadata": {
        "colab": {
          "base_uri": "https://localhost:8080/"
        },
        "id": "3prDRVuGzsMk",
        "outputId": "c575cde5-71cc-4feb-b656-9894efbd8972"
      },
      "source": [
        "listaVetor = []\n",
        "vetorPar = []\n",
        "vetorImpar = []\n",
        "for _ in range(20):\n",
        "  listaVetor.append(randint(0,100))\n",
        "for numero in listaVetor:\n",
        "  if numero % 2 == 0:\n",
        "    vetorPar.append(numero)\n",
        "  else:\n",
        "    vetorImpar.append(numero)\n",
        "\n",
        "print('Vetor inicial =',listaVetor,'\\nVetor com números pares =',vetorPar,'\\nVetor com números impares =',vetorImpar)"
      ],
      "execution_count": null,
      "outputs": [
        {
          "output_type": "stream",
          "text": [
            "Vetor inicial = [43, 89, 50, 19, 0, 62, 28, 11, 84, 19, 51, 67, 99, 6, 57, 36, 69, 32, 5, 54] \n",
            "Vetor com números pares = [50, 0, 62, 28, 84, 6, 36, 32, 54] \n",
            "Vetor com números impares = [43, 89, 19, 11, 19, 51, 67, 99, 57, 69, 5]\n"
          ],
          "name": "stdout"
        }
      ]
    },
    {
      "cell_type": "markdown",
      "metadata": {
        "id": "WFApGkOq2DT1"
      },
      "source": [
        "#![image.png](data:image/png;base64,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)"
      ]
    },
    {
      "cell_type": "code",
      "metadata": {
        "colab": {
          "base_uri": "https://localhost:8080/"
        },
        "id": "xFTlg9KC2IIc",
        "outputId": "3c26cfa7-7edb-4b3f-fd7d-42d66575f9ff"
      },
      "source": [
        "alunos = []\n",
        "for aluno in range(10):\n",
        "  notas = []\n",
        "  for _ in range(4):\n",
        "    notas.append(round(uniform(0,10),2))\n",
        "  alunos.append(notas)\n",
        "vetorMedia = []\n",
        "for aluno in alunos:\n",
        "  vetorMedia.append(round(np.mean(aluno),2))\n",
        "for aluno in vetorMedia:\n",
        "  if aluno > 7.0:\n",
        "    print(aluno)"
      ],
      "execution_count": null,
      "outputs": [
        {
          "output_type": "stream",
          "text": [
            "7.72\n",
            "8.05\n"
          ],
          "name": "stdout"
        }
      ]
    },
    {
      "cell_type": "markdown",
      "metadata": {
        "id": "TP-0LDzs8vFh"
      },
      "source": [
        "#![image.png](data:image/png;base64,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)"
      ]
    },
    {
      "cell_type": "code",
      "metadata": {
        "colab": {
          "base_uri": "https://localhost:8080/"
        },
        "id": "WliN31zj80p7",
        "outputId": "ad49c837-71d0-4e50-8ac5-3d98dfc92b8e"
      },
      "source": [
        "listaNumeros = [5, 9, 1, 8, 6]\n",
        "somaNumeros = 0\n",
        "multiplicaNumeros = 1\n",
        "for numero in listaNumeros:\n",
        "  somaNumeros+=numero\n",
        "  multiplicaNumeros*=numero\n",
        "\n",
        "print('Soma =',somaNumeros)\n",
        "print('Multiplicação =',multiplicaNumeros)\n",
        "print('Números = ',end='')\n",
        "for numero in listaNumeros:\n",
        "  print(numero,end=' ')"
      ],
      "execution_count": null,
      "outputs": [
        {
          "output_type": "stream",
          "text": [
            "Soma = 29\n",
            "Multiplicação = 2160\n",
            "Números = 5 9 1 8 6 "
          ],
          "name": "stdout"
        }
      ]
    },
    {
      "cell_type": "markdown",
      "metadata": {
        "id": "isl5R2EI-axG"
      },
      "source": [
        "#![image.png](data:image/png;base64,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)"
      ]
    },
    {
      "cell_type": "code",
      "metadata": {
        "colab": {
          "base_uri": "https://localhost:8080/"
        },
        "id": "aJkdcHdb-irA",
        "outputId": "67d417f1-a36e-45c6-e98a-2f223ebb27ee"
      },
      "source": [
        "pessoas = []\n",
        "for pessoa in range(5):\n",
        "  idadeEaltura = []\n",
        "  for _ in range(1):\n",
        "    idade = randint(20,60)\n",
        "    altura = round(uniform(1,2),2)\n",
        "    lista = [idade,altura]\n",
        "    idadeEaltura.extend(lista)\n",
        "  pessoas.append(idadeEaltura)\n",
        "contador = 1\n",
        "for pessoa in pessoas:\n",
        "  print(f'{contador}°Pessoa: ')\n",
        "  for indice in range(len(pessoa)-1,-1,-1):\n",
        "    print(pessoa[indice])\n",
        "  contador+=1"
      ],
      "execution_count": null,
      "outputs": [
        {
          "output_type": "stream",
          "text": [
            "1°Pessoa: \n",
            "1.82\n",
            "53\n",
            "2°Pessoa: \n",
            "1.12\n",
            "46\n",
            "3°Pessoa: \n",
            "1.48\n",
            "29\n",
            "4°Pessoa: \n",
            "1.99\n",
            "21\n",
            "5°Pessoa: \n",
            "1.62\n",
            "42\n"
          ],
          "name": "stdout"
        }
      ]
    },
    {
      "cell_type": "markdown",
      "metadata": {
        "id": "HCqddn6qdGr3"
      },
      "source": [
        "#![image.png](data:image/png;base64,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)"
      ]
    },
    {
      "cell_type": "code",
      "metadata": {
        "colab": {
          "base_uri": "https://localhost:8080/"
        },
        "id": "NR5nyOY1dLQf",
        "outputId": "b855ed98-fa6f-47dc-dc36-8efc704c88bd"
      },
      "source": [
        "vetorA = [10,20,30,40,50,60,70,80,90,100]\n",
        "soma = 0\n",
        "for numero in vetorA:\n",
        "  soma+=pow(numero,2)\n",
        "print(soma)"
      ],
      "execution_count": 6,
      "outputs": [
        {
          "output_type": "stream",
          "text": [
            "38500\n"
          ],
          "name": "stdout"
        }
      ]
    },
    {
      "cell_type": "markdown",
      "metadata": {
        "id": "BOa5x5oDd6wB"
      },
      "source": [
        "#![image.png](data:image/png;base64,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)"
      ]
    },
    {
      "cell_type": "code",
      "metadata": {
        "colab": {
          "base_uri": "https://localhost:8080/"
        },
        "id": "xHf178Tzd-ts",
        "outputId": "791e9f88-c4b1-4d30-ec2d-83d9badf5984"
      },
      "source": [
        "vetorUm = [1,2,3,4,5,6,7,8,9,10]\n",
        "vetorDois = [0,2,4,6,8,10,12,14,16,18]\n",
        "vetorTres = []\n",
        "indice = 0\n",
        "\n",
        "while len(vetorTres) < 20:\n",
        "  vetorTres.append(vetorUm[indice])\n",
        "  vetorTres.append(vetorDois[indice])\n",
        "  indice+=1\n",
        "\n",
        "print(vetorTres)"
      ],
      "execution_count": 11,
      "outputs": [
        {
          "output_type": "stream",
          "text": [
            "[1, 0, 2, 2, 3, 4, 4, 6, 5, 8, 6, 10, 7, 12, 8, 14, 9, 16, 10, 18]\n"
          ],
          "name": "stdout"
        }
      ]
    },
    {
      "cell_type": "markdown",
      "metadata": {
        "id": "_Ik3Bi4Mfvu7"
      },
      "source": [
        "#![image.png](data:image/png;base64,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)"
      ]
    },
    {
      "cell_type": "code",
      "metadata": {
        "colab": {
          "base_uri": "https://localhost:8080/"
        },
        "id": "y5fxT5LTf2AR",
        "outputId": "89480304-d233-4743-e94e-446d5910d85c"
      },
      "source": [
        "vetorUm = [1,2,3,4,5,6,7,8,9,10]\n",
        "vetorDois = [20,22,24,26,28,30,32,34,36,38]\n",
        "vetorTres = [40,44,48,52,56,60,64,68,72,76]\n",
        "vetorQuatro = []\n",
        "indice = 0\n",
        "\n",
        "while len(vetorQuatro) < 30:\n",
        "  vetorQuatro.append(vetorUm[indice])\n",
        "  vetorQuatro.append(vetorDois[indice])\n",
        "  vetorQuatro.append(vetorTres[indice])\n",
        "  indice+=1\n",
        "\n",
        "print(vetorQuatro)"
      ],
      "execution_count": 14,
      "outputs": [
        {
          "output_type": "stream",
          "text": [
            "[1, 20, 40, 2, 22, 44, 3, 24, 48, 4, 26, 52, 5, 28, 56, 6, 30, 60, 7, 32, 64, 8, 34, 68, 9, 36, 72, 10, 38, 76]\n"
          ],
          "name": "stdout"
        }
      ]
    },
    {
      "cell_type": "markdown",
      "metadata": {
        "id": "31p6beiyglVt"
      },
      "source": [
        "#![image.png](data:image/png;base64,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)"
      ]
    },
    {
      "cell_type": "code",
      "metadata": {
        "colab": {
          "base_uri": "https://localhost:8080/"
        },
        "id": "dL2e7Pl3gpAR",
        "outputId": "b484eff0-eaee-4c10-8162-21d06d7d29fc"
      },
      "source": [
        "alunos = []\n",
        "for criança in range(30):\n",
        "  idadeEaltura = []\n",
        "  for _ in range(1):\n",
        "    idade = randint(9,17)\n",
        "    altura = round(uniform(1,2),2)\n",
        "    lista = [idade,altura]\n",
        "    idadeEaltura.extend(lista)\n",
        "  alunos.append(idadeEaltura)\n",
        "mediaAlunos = 0\n",
        "for criança in alunos:\n",
        "  mediaAlunos+=criança[1]\n",
        "round(mediaAlunos,2)\n",
        "contador = 0\n",
        "for criança in alunos:\n",
        "  if criança[0] > 13 and criança[1] < mediaAlunos:\n",
        "    contador+=1\n",
        "print(f'No total foram {contador} alunos')"
      ],
      "execution_count": 36,
      "outputs": [
        {
          "output_type": "stream",
          "text": [
            "No total foram 10 alunos\n"
          ],
          "name": "stdout"
        }
      ]
    },
    {
      "cell_type": "markdown",
      "metadata": {
        "id": "tcofb7CY_ti2"
      },
      "source": [
        "#![image.png](data:image/png;base64,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)"
      ]
    },
    {
      "cell_type": "code",
      "metadata": {
        "colab": {
          "base_uri": "https://localhost:8080/"
        },
        "id": "qbcbwSft_x-4",
        "outputId": "82a6c554-20b6-4c3c-ef70-eaf67750234d"
      },
      "source": [
        "mesExtenso = ['Janeiro', 'Fevereiro', 'Março', 'Abril', 'Maio', 'Junho', 'Julho','Agosto', 'Setembro', 'Outubro', 'Novembro', 'Dezembro']\n",
        "temperaturaMediaAno = []\n",
        "for mes in range(12):\n",
        "  temperaturaMediaAno.append(randint(0,30))\n",
        "mediaAnualTemperaturas = np.mean(temperaturaMediaAno)\n",
        "print(f'Média anual das temperaturas do ano = {mediaAnualTemperaturas}°C')\n",
        "for mes in range(12):\n",
        "  if temperaturaMediaAno[mes] > mediaAnualTemperaturas:\n",
        "    print(f'{temperaturaMediaAno[mes]}°C ocorreu em {mesExtenso[mes]}')"
      ],
      "execution_count": 48,
      "outputs": [
        {
          "output_type": "stream",
          "text": [
            "Média anual das temperaturas do ano = 14.0°C\n",
            "17°C ocorreu em Janeiro\n",
            "16°C ocorreu em Março\n",
            "21°C ocorreu em Abril\n",
            "21°C ocorreu em Julho\n",
            "27°C ocorreu em Agosto\n",
            "17°C ocorreu em Setembro\n"
          ],
          "name": "stdout"
        }
      ]
    },
    {
      "cell_type": "markdown",
      "metadata": {
        "id": "R7LwAWsMFblX"
      },
      "source": [
        "#![image.png](data:image/png;base64,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)"
      ]
    },
    {
      "cell_type": "code",
      "metadata": {
        "colab": {
          "base_uri": "https://localhost:8080/"
        },
        "id": "dALj5GfCFjrr",
        "outputId": "f6c6eeb9-aa02-4d9d-91cb-57010d14a8f4"
      },
      "source": [
        "perguntas = ['Telefonou para a vítima?','Esteve no local do crime?','Mora perto da vítima?',\n",
        "             'Devia para a vítima?','Já trabalhou com a vítima?']\n",
        "classificacao = ['Inocente','Inocente','Suspeito','Cúmplice','Cúmplice','Assassino']\n",
        "resposta = ['Sim','Não']\n",
        "suspeito = 0\n",
        "for indice in range(5):\n",
        "  print(perguntas[indice])\n",
        "  respostaPessoa = resposta[randint(0,1)]\n",
        "  print(respostaPessoa)\n",
        "  if respostaPessoa == 'Sim':\n",
        "    suspeito+=1\n",
        "print(f'Você foi classificado como: {classificacao[suspeito]}')"
      ],
      "execution_count": 75,
      "outputs": [
        {
          "output_type": "stream",
          "text": [
            "Telefonou para a vítima?\n",
            "Não\n",
            "Esteve no local do crime?\n",
            "Não\n",
            "Mora perto da vítima?\n",
            "Não\n",
            "Devia para a vítima?\n",
            "Não\n",
            "Já trabalhou com a vítima?\n",
            "Sim\n",
            "Você foi classificado como: Inocente\n"
          ],
          "name": "stdout"
        }
      ]
    }
  ]
}